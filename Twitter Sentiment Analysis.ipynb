{
 "cells": [
  {
   "cell_type": "markdown",
   "id": "1c93a746-d23f-4ec8-8157-ec5781c8baf3",
   "metadata": {},
   "source": [
    "#### IMPORT THE LIBRARIES"
   ]
  },
  {
   "cell_type": "code",
   "execution_count": 36,
   "id": "863ee070-b097-47a9-ae1f-f90409cd3b8c",
   "metadata": {},
   "outputs": [],
   "source": [
    "import numpy as np\n",
    "import pandas as pd\n",
    "import matplotlib.pyplot as plt\n",
    "import seaborn as sns"
   ]
  },
  {
   "cell_type": "markdown",
   "id": "fd0c38e0-5b4e-4a1e-a249-03d7705d3414",
   "metadata": {},
   "source": [
    "#### LOAD AND EXPLORE THE DATA"
   ]
  },
  {
   "cell_type": "code",
   "execution_count": 22,
   "id": "a50d7fe7-d71d-491b-9d94-45b2c6474745",
   "metadata": {},
   "outputs": [
    {
     "name": "stdout",
     "output_type": "stream",
     "text": [
      "Index(['id', 'Original_Label', 'Tweet_Text', 'Sentiment_Score',\n",
      "       'Sentiment_Label', 'Category'],\n",
      "      dtype='object')\n"
     ]
    }
   ],
   "source": [
    "df = pd.read_csv(r\"C:\\Users\\Sarthak\\Downloads\\Twitter_Sentiments.csv\")\n",
    "\n",
    "print(df.columns)"
   ]
  },
  {
   "cell_type": "code",
   "execution_count": 23,
   "id": "084f711c-7dc1-4c6f-bb19-127bd9e5cf54",
   "metadata": {},
   "outputs": [
    {
     "data": {
      "text/html": [
       "<div>\n",
       "<style scoped>\n",
       "    .dataframe tbody tr th:only-of-type {\n",
       "        vertical-align: middle;\n",
       "    }\n",
       "\n",
       "    .dataframe tbody tr th {\n",
       "        vertical-align: top;\n",
       "    }\n",
       "\n",
       "    .dataframe thead th {\n",
       "        text-align: right;\n",
       "    }\n",
       "</style>\n",
       "<table border=\"1\" class=\"dataframe\">\n",
       "  <thead>\n",
       "    <tr style=\"text-align: right;\">\n",
       "      <th></th>\n",
       "      <th>id</th>\n",
       "      <th>Original_Label</th>\n",
       "      <th>Tweet_Text</th>\n",
       "      <th>Sentiment_Score</th>\n",
       "      <th>Sentiment_Label</th>\n",
       "      <th>Category</th>\n",
       "    </tr>\n",
       "  </thead>\n",
       "  <tbody>\n",
       "    <tr>\n",
       "      <th>0</th>\n",
       "      <td>1</td>\n",
       "      <td>0</td>\n",
       "      <td>@user when a father is dysfunctional and is s...</td>\n",
       "      <td>-1</td>\n",
       "      <td>Negative</td>\n",
       "      <td>Neutral</td>\n",
       "    </tr>\n",
       "    <tr>\n",
       "      <th>1</th>\n",
       "      <td>2</td>\n",
       "      <td>0</td>\n",
       "      <td>@user @user thanks for #lyft credit i can't us...</td>\n",
       "      <td>0</td>\n",
       "      <td>Neutral</td>\n",
       "      <td>Negative</td>\n",
       "    </tr>\n",
       "    <tr>\n",
       "      <th>2</th>\n",
       "      <td>3</td>\n",
       "      <td>0</td>\n",
       "      <td>bihday your majesty</td>\n",
       "      <td>0</td>\n",
       "      <td>Neutral</td>\n",
       "      <td>Positive</td>\n",
       "    </tr>\n",
       "    <tr>\n",
       "      <th>3</th>\n",
       "      <td>4</td>\n",
       "      <td>0</td>\n",
       "      <td>#model   i love u take with u all the time in ...</td>\n",
       "      <td>1</td>\n",
       "      <td>Positive</td>\n",
       "      <td>Negative</td>\n",
       "    </tr>\n",
       "    <tr>\n",
       "      <th>4</th>\n",
       "      <td>5</td>\n",
       "      <td>0</td>\n",
       "      <td>factsguide: society now    #motivation</td>\n",
       "      <td>0</td>\n",
       "      <td>Neutral</td>\n",
       "      <td>Neutral</td>\n",
       "    </tr>\n",
       "  </tbody>\n",
       "</table>\n",
       "</div>"
      ],
      "text/plain": [
       "   id  Original_Label                                         Tweet_Text  \\\n",
       "0   1               0   @user when a father is dysfunctional and is s...   \n",
       "1   2               0  @user @user thanks for #lyft credit i can't us...   \n",
       "2   3               0                                bihday your majesty   \n",
       "3   4               0  #model   i love u take with u all the time in ...   \n",
       "4   5               0             factsguide: society now    #motivation   \n",
       "\n",
       "   Sentiment_Score Sentiment_Label  Category  \n",
       "0               -1        Negative   Neutral  \n",
       "1                0         Neutral  Negative  \n",
       "2                0         Neutral  Positive  \n",
       "3                1        Positive  Negative  \n",
       "4                0         Neutral   Neutral  "
      ]
     },
     "execution_count": 23,
     "metadata": {},
     "output_type": "execute_result"
    }
   ],
   "source": [
    "df.head()"
   ]
  },
  {
   "cell_type": "code",
   "execution_count": 24,
   "id": "139276a8-995d-438e-be19-400d2b783d18",
   "metadata": {},
   "outputs": [
    {
     "name": "stdout",
     "output_type": "stream",
     "text": [
      "<class 'pandas.core.frame.DataFrame'>\n",
      "RangeIndex: 31962 entries, 0 to 31961\n",
      "Data columns (total 6 columns):\n",
      " #   Column           Non-Null Count  Dtype \n",
      "---  ------           --------------  ----- \n",
      " 0   id               31962 non-null  int64 \n",
      " 1   Original_Label   31962 non-null  int64 \n",
      " 2   Tweet_Text       31962 non-null  object\n",
      " 3   Sentiment_Score  31962 non-null  int64 \n",
      " 4   Sentiment_Label  31962 non-null  object\n",
      " 5   Category         31962 non-null  object\n",
      "dtypes: int64(3), object(3)\n",
      "memory usage: 1.5+ MB\n"
     ]
    }
   ],
   "source": [
    "df.info()"
   ]
  },
  {
   "cell_type": "markdown",
   "id": "06c7c65a-804c-4e89-9540-61e2bba9978d",
   "metadata": {},
   "source": [
    "#### PREPROCESS TEXT (NLP Cleaning)"
   ]
  },
  {
   "cell_type": "code",
   "execution_count": 26,
   "id": "9538e1f7-a354-466e-a68b-0d3c40f3e282",
   "metadata": {},
   "outputs": [
    {
     "name": "stderr",
     "output_type": "stream",
     "text": [
      "[nltk_data] Downloading package stopwords to\n",
      "[nltk_data]     C:\\Users\\Sarthak\\AppData\\Roaming\\nltk_data...\n",
      "[nltk_data]   Package stopwords is already up-to-date!\n"
     ]
    }
   ],
   "source": [
    "import re\n",
    "import nltk\n",
    "from nltk.corpus import stopwords\n",
    "\n",
    "nltk.download('stopwords')\n",
    "stop_words = set(stopwords.words('english'))\n",
    "\n",
    "def clean_text(text):\n",
    "    text = str(text).lower()\n",
    "    text = re.sub(r\"http\\S+|www\\S+|@\\S+|#\\S+\", \"\", text)   # links, mentions, hashtags\n",
    "    text = re.sub(r\"[^a-z\\s]\", \"\", text)                   # keep only alphabets\n",
    "    text = \" \".join([w for w in text.split() if w not in stop_words])\n",
    "    return text\n",
    "\n",
    "df['Cleaned_Tweet'] = df['Tweet_Text'].apply(clean_text)"
   ]
  },
  {
   "cell_type": "code",
   "execution_count": 44,
   "id": "ea8e8df5-9a50-422e-affb-5d31a6988365",
   "metadata": {},
   "outputs": [
    {
     "data": {
      "text/html": [
       "<div>\n",
       "<style scoped>\n",
       "    .dataframe tbody tr th:only-of-type {\n",
       "        vertical-align: middle;\n",
       "    }\n",
       "\n",
       "    .dataframe tbody tr th {\n",
       "        vertical-align: top;\n",
       "    }\n",
       "\n",
       "    .dataframe thead th {\n",
       "        text-align: right;\n",
       "    }\n",
       "</style>\n",
       "<table border=\"1\" class=\"dataframe\">\n",
       "  <thead>\n",
       "    <tr style=\"text-align: right;\">\n",
       "      <th></th>\n",
       "      <th>id</th>\n",
       "      <th>Original_Label</th>\n",
       "      <th>Tweet_Text</th>\n",
       "      <th>Sentiment_Score</th>\n",
       "      <th>Sentiment_Label</th>\n",
       "      <th>Category</th>\n",
       "      <th>Cleaned_Tweet</th>\n",
       "    </tr>\n",
       "  </thead>\n",
       "  <tbody>\n",
       "    <tr>\n",
       "      <th>0</th>\n",
       "      <td>1</td>\n",
       "      <td>0</td>\n",
       "      <td>@user when a father is dysfunctional and is s...</td>\n",
       "      <td>-0.7650</td>\n",
       "      <td>Negative</td>\n",
       "      <td>Neutral</td>\n",
       "      <td>father dysfunctional selfish drags kids dysfun...</td>\n",
       "    </tr>\n",
       "    <tr>\n",
       "      <th>1</th>\n",
       "      <td>2</td>\n",
       "      <td>0</td>\n",
       "      <td>@user @user thanks for #lyft credit i can't us...</td>\n",
       "      <td>0.6705</td>\n",
       "      <td>Positive</td>\n",
       "      <td>Negative</td>\n",
       "      <td>thanks credit cant use cause dont offer wheelc...</td>\n",
       "    </tr>\n",
       "    <tr>\n",
       "      <th>2</th>\n",
       "      <td>3</td>\n",
       "      <td>0</td>\n",
       "      <td>bihday your majesty</td>\n",
       "      <td>0.0000</td>\n",
       "      <td>Neutral</td>\n",
       "      <td>Positive</td>\n",
       "      <td>bihday majesty</td>\n",
       "    </tr>\n",
       "    <tr>\n",
       "      <th>3</th>\n",
       "      <td>4</td>\n",
       "      <td>0</td>\n",
       "      <td>#model   i love u take with u all the time in ...</td>\n",
       "      <td>0.6369</td>\n",
       "      <td>Positive</td>\n",
       "      <td>Negative</td>\n",
       "      <td>love u take u time ur</td>\n",
       "    </tr>\n",
       "    <tr>\n",
       "      <th>4</th>\n",
       "      <td>5</td>\n",
       "      <td>0</td>\n",
       "      <td>factsguide: society now    #motivation</td>\n",
       "      <td>0.0000</td>\n",
       "      <td>Neutral</td>\n",
       "      <td>Neutral</td>\n",
       "      <td>factsguide society</td>\n",
       "    </tr>\n",
       "  </tbody>\n",
       "</table>\n",
       "</div>"
      ],
      "text/plain": [
       "   id  Original_Label                                         Tweet_Text  \\\n",
       "0   1               0   @user when a father is dysfunctional and is s...   \n",
       "1   2               0  @user @user thanks for #lyft credit i can't us...   \n",
       "2   3               0                                bihday your majesty   \n",
       "3   4               0  #model   i love u take with u all the time in ...   \n",
       "4   5               0             factsguide: society now    #motivation   \n",
       "\n",
       "   Sentiment_Score Sentiment_Label  Category  \\\n",
       "0          -0.7650        Negative   Neutral   \n",
       "1           0.6705        Positive  Negative   \n",
       "2           0.0000         Neutral  Positive   \n",
       "3           0.6369        Positive  Negative   \n",
       "4           0.0000         Neutral   Neutral   \n",
       "\n",
       "                                       Cleaned_Tweet  \n",
       "0  father dysfunctional selfish drags kids dysfun...  \n",
       "1  thanks credit cant use cause dont offer wheelc...  \n",
       "2                                     bihday majesty  \n",
       "3                              love u take u time ur  \n",
       "4                                 factsguide society  "
      ]
     },
     "execution_count": 44,
     "metadata": {},
     "output_type": "execute_result"
    }
   ],
   "source": [
    "df.head()"
   ]
  },
  {
   "cell_type": "markdown",
   "id": "1ac9fc23-e80e-48fe-9259-2eccbcd94a90",
   "metadata": {},
   "source": [
    "#### SENTIMENT ANALYSIS"
   ]
  },
  {
   "cell_type": "code",
   "execution_count": 27,
   "id": "7220fed9-11ff-4c70-a89c-23c9d2b99e9b",
   "metadata": {},
   "outputs": [
    {
     "name": "stderr",
     "output_type": "stream",
     "text": [
      "[nltk_data] Downloading package vader_lexicon to\n",
      "[nltk_data]     C:\\Users\\Sarthak\\AppData\\Roaming\\nltk_data...\n",
      "[nltk_data]   Package vader_lexicon is already up-to-date!\n"
     ]
    }
   ],
   "source": [
    "from nltk.sentiment import SentimentIntensityAnalyzer\n",
    "nltk.download('vader_lexicon')\n",
    "\n",
    "sia = SentimentIntensityAnalyzer()\n",
    "df['Sentiment_Score'] = df['Cleaned_Tweet'].apply(lambda x: sia.polarity_scores(x)['compound'])\n",
    "\n",
    "def label(score):\n",
    "    if score > 0.05: return \"Positive\"\n",
    "    elif score < -0.05: return \"Negative\"\n",
    "    else: return \"Neutral\"\n",
    "\n",
    "df['Sentiment_Label'] = df['Sentiment_Score'].apply(label)"
   ]
  },
  {
   "cell_type": "code",
   "execution_count": 40,
   "id": "fa299521-4547-43b9-885b-b7580b9e41df",
   "metadata": {},
   "outputs": [
    {
     "data": {
      "text/html": [
       "<div>\n",
       "<style scoped>\n",
       "    .dataframe tbody tr th:only-of-type {\n",
       "        vertical-align: middle;\n",
       "    }\n",
       "\n",
       "    .dataframe tbody tr th {\n",
       "        vertical-align: top;\n",
       "    }\n",
       "\n",
       "    .dataframe thead th {\n",
       "        text-align: right;\n",
       "    }\n",
       "</style>\n",
       "<table border=\"1\" class=\"dataframe\">\n",
       "  <thead>\n",
       "    <tr style=\"text-align: right;\">\n",
       "      <th></th>\n",
       "      <th>id</th>\n",
       "      <th>Original_Label</th>\n",
       "      <th>Tweet_Text</th>\n",
       "      <th>Sentiment_Score</th>\n",
       "      <th>Sentiment_Label</th>\n",
       "      <th>Category</th>\n",
       "      <th>Cleaned_Tweet</th>\n",
       "    </tr>\n",
       "  </thead>\n",
       "  <tbody>\n",
       "    <tr>\n",
       "      <th>0</th>\n",
       "      <td>1</td>\n",
       "      <td>0</td>\n",
       "      <td>@user when a father is dysfunctional and is s...</td>\n",
       "      <td>-0.7650</td>\n",
       "      <td>Negative</td>\n",
       "      <td>Neutral</td>\n",
       "      <td>father dysfunctional selfish drags kids dysfun...</td>\n",
       "    </tr>\n",
       "    <tr>\n",
       "      <th>1</th>\n",
       "      <td>2</td>\n",
       "      <td>0</td>\n",
       "      <td>@user @user thanks for #lyft credit i can't us...</td>\n",
       "      <td>0.6705</td>\n",
       "      <td>Positive</td>\n",
       "      <td>Negative</td>\n",
       "      <td>thanks credit cant use cause dont offer wheelc...</td>\n",
       "    </tr>\n",
       "    <tr>\n",
       "      <th>2</th>\n",
       "      <td>3</td>\n",
       "      <td>0</td>\n",
       "      <td>bihday your majesty</td>\n",
       "      <td>0.0000</td>\n",
       "      <td>Neutral</td>\n",
       "      <td>Positive</td>\n",
       "      <td>bihday majesty</td>\n",
       "    </tr>\n",
       "    <tr>\n",
       "      <th>3</th>\n",
       "      <td>4</td>\n",
       "      <td>0</td>\n",
       "      <td>#model   i love u take with u all the time in ...</td>\n",
       "      <td>0.6369</td>\n",
       "      <td>Positive</td>\n",
       "      <td>Negative</td>\n",
       "      <td>love u take u time ur</td>\n",
       "    </tr>\n",
       "    <tr>\n",
       "      <th>4</th>\n",
       "      <td>5</td>\n",
       "      <td>0</td>\n",
       "      <td>factsguide: society now    #motivation</td>\n",
       "      <td>0.0000</td>\n",
       "      <td>Neutral</td>\n",
       "      <td>Neutral</td>\n",
       "      <td>factsguide society</td>\n",
       "    </tr>\n",
       "  </tbody>\n",
       "</table>\n",
       "</div>"
      ],
      "text/plain": [
       "   id  Original_Label                                         Tweet_Text  \\\n",
       "0   1               0   @user when a father is dysfunctional and is s...   \n",
       "1   2               0  @user @user thanks for #lyft credit i can't us...   \n",
       "2   3               0                                bihday your majesty   \n",
       "3   4               0  #model   i love u take with u all the time in ...   \n",
       "4   5               0             factsguide: society now    #motivation   \n",
       "\n",
       "   Sentiment_Score Sentiment_Label  Category  \\\n",
       "0          -0.7650        Negative   Neutral   \n",
       "1           0.6705        Positive  Negative   \n",
       "2           0.0000         Neutral  Positive   \n",
       "3           0.6369        Positive  Negative   \n",
       "4           0.0000         Neutral   Neutral   \n",
       "\n",
       "                                       Cleaned_Tweet  \n",
       "0  father dysfunctional selfish drags kids dysfun...  \n",
       "1  thanks credit cant use cause dont offer wheelc...  \n",
       "2                                     bihday majesty  \n",
       "3                              love u take u time ur  \n",
       "4                                 factsguide society  "
      ]
     },
     "execution_count": 40,
     "metadata": {},
     "output_type": "execute_result"
    }
   ],
   "source": [
    "df.head()"
   ]
  },
  {
   "cell_type": "markdown",
   "id": "2d51cb08-6b2c-442a-a129-d639af1bce07",
   "metadata": {},
   "source": [
    "#### VISUALISE SENTIMENT TRENDS"
   ]
  },
  {
   "cell_type": "code",
   "execution_count": 39,
   "id": "32b3b98c-f763-428f-85cb-46f91e1a76a1",
   "metadata": {},
   "outputs": [
    {
     "data": {
      "image/png": "[encoded data removed]",
      "text/plain": [
       "<Figure size 600x400 with 1 Axes>"
      ]
     },
     "metadata": {},
     "output_type": "display_data"
    }
   ],
   "source": [
    "#Sentiment Distribution\n",
    "\n",
    "plt.figure(figsize=(6,4))\n",
    "sns.countplot(x='Sentiment_Label', data=df, palette='Set2')\n",
    "plt.title(\"Number of Tweets by Sentiment\")\n",
    "plt.xlabel(\"Sentiment\")\n",
    "plt.ylabel(\"Count\")\n",
    "plt.show()"
   ]
  },
  {
   "cell_type": "code",
   "execution_count": 30,
   "id": "0bfc63a8-7591-4d9c-af9b-81df0a1e6bfd",
   "metadata": {},
   "outputs": [
    {
     "name": "stderr",
     "output_type": "stream",
     "text": [
      "C:\\ProgramData\\anaconda3\\Lib\\site-packages\\seaborn\\_oldcore.py:1119: FutureWarning: use_inf_as_na option is deprecated and will be removed in a future version. Convert inf values to NaN before operating instead.\n",
      "  with pd.option_context('mode.use_inf_as_na', True):\n"
     ]
    },
    {
     "data": {
      "image/png": "[encoded data removed]",
      "text/plain": [
       "<Figure size 600x400 with 1 Axes>"
      ]
     },
     "metadata": {},
     "output_type": "display_data"
    }
   ],
   "source": [
    "#Histogram of Sentiment Scores\n",
    "\n",
    "plt.figure(figsize=(6,4))\n",
    "sns.histplot(df['Sentiment_Score'], bins=30, kde=True, color=\"purple\")\n",
    "plt.title(\"Distribution of Sentiment Scores\")\n",
    "plt.xlabel(\"Sentiment Score\")\n",
    "plt.ylabel(\"Frequency\")\n",
    "plt.show()"
   ]
  },
  {
   "cell_type": "code",
   "execution_count": 49,
   "id": "777661cc-7479-449a-a496-c31f41a8bd88",
   "metadata": {},
   "outputs": [
    {
     "data": {
      "image/png": "[encoded data removed]",
      "text/plain": [
       "<Figure size 600x400 with 1 Axes>"
      ]
     },
     "metadata": {},
     "output_type": "display_data"
    }
   ],
   "source": [
    "#Category\n",
    "\n",
    "plt.figure(figsize=(6,4))\n",
    "sns.countplot(x='Category', data=df, palette='Set2')\n",
    "plt.title(\"Number of Tweets by Category\")\n",
    "plt.xlabel(\"Category\")\n",
    "plt.ylabel(\"Count\")\n",
    "plt.show()"
   ]
  },
  {
   "cell_type": "markdown",
   "id": "318efec0-4968-42d9-8f0f-2caa9abb57b3",
   "metadata": {},
   "source": [
    "\n",
    "\r\n",
    "Conclusion:\r\n",
    "-----------\r\n",
    "In this project, we collected and analyzed social media (Twitter) data \r\n",
    "to understand public sentiment towards a topic. \r\n",
    "\r\n",
    "Steps we followed:\r\n",
    "1. Preprocessed tweets by cleaning text (removing links, hashtags, stopwords).\r\n",
    "2. Used NLP (VADER sentiment analysis) to assign each tweet a sentiment score.\r\n",
    "3. Classified tweets into Positive, Negative, and Neutral categories.\r\n",
    "4. Visualized the results using bar charts, pie charts, histograms, wordclouds, \r\n",
    "   and sentiment trends over time.\r\n",
    "\r\n",
    "Key Insights:\r\n",
    "- Sentiment analysis helps quickly identify public opinion patterns.\r\n",
    "- Positive, Negative, and Neutral tweets can be compared to see overall mood.\r\n",
    "- Trends over time reveal how events or announcements affect sentiment.\r\n",
    "- Word clouds highlight the most common words driving positive oracted successfully.\")\r\n"
   ]
  },
  {
   "cell_type": "code",
   "execution_count": null,
   "id": "fb5fa707-ad95-40a5-bb97-faecfa6c13e8",
   "metadata": {},
   "outputs": [],
   "source": []
  }
 ],
 "metadata": {
  "kernelspec": {
   "display_name": "Python 3 (ipykernel)",
   "language": "python",
   "name": "python3"
  },
  "language_info": {
   "codemirror_mode": {
    "name": "ipython",
    "version": 3
   },
   "file_extension": ".py",
   "mimetype": "text/x-python",
   "name": "python",
   "nbconvert_exporter": "python",
   "pygments_lexer": "ipython3",
   "version": "3.11.7"
  }
 },
 "nbformat": 4,
 "nbformat_minor": 5
}
